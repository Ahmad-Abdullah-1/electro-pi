{
 "cells": [
  {
   "cell_type": "code",
   "execution_count": 1,
   "id": "10c3788f-432d-465c-910c-31737b84c19b",
   "metadata": {},
   "outputs": [],
   "source": [
    "import pandas as pd\n",
    "import numpy as np"
   ]
  },
  {
   "cell_type": "code",
   "execution_count": 2,
   "id": "afeabbdd-bbbf-4293-a5cb-646b03e424cf",
   "metadata": {},
   "outputs": [],
   "source": [
    "# this code runs a lot better with homogenous data #"
   ]
  },
  {
   "cell_type": "code",
   "execution_count": 3,
   "id": "61a7035a-a50c-459b-97ac-75e85e0f8ded",
   "metadata": {},
   "outputs": [],
   "source": [
    "class Data_proccessing:\n",
    "    def _init_(self, data):\n",
    "        self.df = df\n",
    "\n",
    "    def reading_data(self, df):\n",
    "        file_extension = df.split('.')[-1].lower()\n",
    "\n",
    "        if file_extension == 'csv':\n",
    "            self.df = pd.read_csv(df, encoding='latin-1')\n",
    "        elif file_extension == 'xlsx' or file_extension == 'xls':\n",
    "            self.df = pd.read_excel(df, encoding='latin-1')\n",
    "        elif file_extension == 'json':\n",
    "            self.df = pd.read_json(df, encoding='latin-1')\n",
    "        else:\n",
    "            raise ValueError('Unsupported file format.')\n",
    "\n",
    "    def data_summary(self):\n",
    "        summary = {\n",
    "            'Data tail': self.df.tail(),   \n",
    "            'Data head': self.df.head(),\n",
    "            'Data mean': self.df.mean(),\n",
    "            'Data description': self.df.describe(),\n",
    "\n",
    "            # Add more summary statistics as needed\n",
    "        }\n",
    "        return summary\n",
    "\n",
    "    def handle_missing_values(self, strategy='remove'):\n",
    "        if strategy == 'remove':\n",
    "            self.df = self.df.dropna()\n",
    "        elif strategy == 'impute':\n",
    "            # enter a logistic option here\n",
    "            pass\n",
    "\n",
    "    def encode_categorical_data(self):\n",
    "        encoded_data = pd.get_dummies(self.df)\n",
    "        return encoded_dat"
   ]
  },
  {
   "cell_type": "code",
   "execution_count": 4,
   "id": "16d159eb-32c3-4538-92bb-d01a1d296718",
   "metadata": {},
   "outputs": [],
   "source": [
    "data_manipulation = Data_proccessing() # object made "
   ]
  },
  {
   "cell_type": "code",
   "execution_count": 5,
   "id": "dc252501-4b54-45c6-b6f6-4d68aa6fed28",
   "metadata": {},
   "outputs": [
    {
     "name": "stdin",
     "output_type": "stream",
     "text": [
      "Enter the full name of the file:  student-scores.csv\n"
     ]
    }
   ],
   "source": [
    "df = input(\"Enter the full name of the file: \")"
   ]
  },
  {
   "cell_type": "markdown",
   "id": "e156cc70-948d-4700-9810-52c94bcfd6bd",
   "metadata": {},
   "source": [
    "Uncomment whatever you need !"
   ]
  },
  {
   "cell_type": "code",
   "execution_count": 6,
   "id": "0a2e621f-0de0-4d9b-a759-2c2a8e674af6",
   "metadata": {},
   "outputs": [],
   "source": [
    "## passing the dataset to the reading method\n",
    "## data_manipulation.reading_data(df)"
   ]
  },
  {
   "cell_type": "code",
   "execution_count": 7,
   "id": "89186e55-51e3-46e6-a5f8-c33467c5a02d",
   "metadata": {},
   "outputs": [],
   "source": [
    "# data summarization\n",
    "# summary = data_manipulation.data_summary()\n",
    "# print (summary)"
   ]
  },
  {
   "cell_type": "code",
   "execution_count": 8,
   "id": "50d9cd22-5801-481f-be12-df82f79ec19e",
   "metadata": {},
   "outputs": [],
   "source": [
    "# handdling missing values or null values \n",
    "# data_manipulation.handle_missing_values(strategy='remove')"
   ]
  },
  {
   "cell_type": "code",
   "execution_count": 9,
   "id": "cbbbfa38-434f-4ddb-97b4-6f98998ba01c",
   "metadata": {},
   "outputs": [],
   "source": [
    "# encoding the data \n",
    "# encoded data = data_manipulation.encode_categorical_data()\n",
    "# print(encoded_data)"
   ]
  }
 ],
 "metadata": {
  "kernelspec": {
   "display_name": "Python 3 (ipykernel)",
   "language": "python",
   "name": "python3"
  },
  "language_info": {
   "codemirror_mode": {
    "name": "ipython",
    "version": 3
   },
   "file_extension": ".py",
   "mimetype": "text/x-python",
   "name": "python",
   "nbconvert_exporter": "python",
   "pygments_lexer": "ipython3",
   "version": "3.11.7"
  }
 },
 "nbformat": 4,
 "nbformat_minor": 5
}
